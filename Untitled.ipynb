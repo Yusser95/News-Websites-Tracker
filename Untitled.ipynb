{
 "cells": [
  {
   "cell_type": "code",
   "execution_count": 12,
   "metadata": {},
   "outputs": [
    {
     "name": "stdout",
     "output_type": "stream",
     "text": [
      "/Users/mac/Desktop/HCISoft/chinise/server\n"
     ]
    },
    {
     "name": "stderr",
     "output_type": "stream",
     "text": [
      "/usr/local/lib/python3.6/site-packages/flask_sqlalchemy/__init__.py:794: FSADeprecationWarning: SQLALCHEMY_TRACK_MODIFICATIONS adds significant overhead and will be disabled by default in the future.  Set it to True or False to suppress this warning.\n",
      "  'SQLALCHEMY_TRACK_MODIFICATIONS adds significant overhead and '\n"
     ]
    }
   ],
   "source": [
    "\n",
    "\n",
    "import os\n",
    "import json\n",
    "from flask import Flask\n",
    "from flask import Markup\n",
    "from flask import Flask\n",
    "from flask import render_template\n",
    "from flask import request\n",
    "from flask import redirect, url_for\n",
    "from flask_sqlalchemy import SQLAlchemy\n",
    "from sqlalchemy import desc\n",
    "from operator import itemgetter\n",
    "from flask import make_response\n",
    "import time\n",
    "import re\n",
    "from bs4 import BeautifulSoup\n",
    "app = Flask(__name__)\n",
    "\n",
    "cwd = os.getcwd()\n",
    "print(cwd)\n",
    "app.config['SQLALCHEMY_DATABASE_URI'] = 'sqlite:///'+cwd+'/resources/data.db'\n",
    "db = SQLAlchemy(app)\n",
    "\n",
    "\n",
    "from models import *"
   ]
  },
  {
   "cell_type": "code",
   "execution_count": 13,
   "metadata": {},
   "outputs": [
    {
     "name": "stdout",
     "output_type": "stream",
     "text": [
      "蒋宜勋，1944年生，湖南祁东人，1963年湖南零陵师范学校毕业并参军。原成都军区政治部文艺创作室专职画家。中国美协会员，中国版协会员，国家一级美术师，原四川省美协副主席，四川省美协版画艺委会主任，现四川省美协顾问，四川大学艺术学院客座教授，西南民族大学艺术学院客座教授，成都翰林艺术学院副院长、教授。创作的版画、油画、国画作品数十次参加全国、全军和省市美展，数十件作品选赴<mark>日本</mark>、韩国、德国、意大利、西班牙、英国、美国等国展出，获“鲁迅版画奖”，获全国、全军和省奖十多次。众多作品被国内外美术馆和收藏家收藏。四川省美协曾于1994年举办“蒋宜勋油画展”，1995年在台湾高雄举办油画联展，2007年在广东举办国画个展。中央、四川、广东的多家电视台作了专题报道。在《人民日报》、《红旗》、《解放军报》、《美术》、《版画》等数十家报刊发表各类作品上千幅。出版了《蒋宜勋油画选》、《蒋宜勋画集》。\n",
      "<mark>日本</mark>外相岸田文雄日前表示，<mark>日本</mark>已敦促联合国教科文组织改进遗产项目审查程序，并决定拒绝向其缴纳今年的会费。\n",
      "事情的起因国际社会其实都明白。去年10月，联合国教科文组织将中国《南京大屠杀档案》列入世界记忆名录。<mark>日本</mark>方面认为审查过程没有征求和体现日方主张，为表示不满才采取这种手段来对联合国教科文组织施加压力。<mark>日本</mark>政府的解释是，为使世界记忆遗产项目不被“政治利用”，需要对于相关申遗制度的改善情况加以判断，之后再缴纳会费。\n",
      "南京大屠杀是第二次世界大战期间<mark>日本</mark>军国主义犯下的严重罪行，是国际社会公认的历史事实。战后远东国际军事法庭和中国审判战犯军事法庭对这一惨案进行的调查、作出的结论，将<mark>日本</mark>侵略者永远钉在了历史耻辱柱上。《南京大屠杀档案》被列入世界记忆名录，充分证明其完全符合联合国教科文组织世界记忆名录的评审标准，有助于充分发挥这些文献铭记历史、珍惜和平、捍卫人类尊严的积极作用。在《南京大屠杀档案》申遗过程中，<mark>日本</mark>方面就多次进行抗议和阻挠，如今更是以拒缴会费来进行胁迫，再次暴露了其不愿正视历史的错误态度。\n",
      "<mark>日本</mark>拒缴会费，并不止于因《南京大屠杀档案》申遗成功而对联合国教科文组织加以报复，让其“尝点苦头”那么简单。\n",
      "今年5月，来自中国、韩国、印尼等8个国家和地区的民间组织共同向联合国教科文组织申请将日军二战期间强征“慰安妇”的历史事实列入世界记忆名录。联合国教科文组织定于明年开始审查。若申遗成功，将再次强化甚至固化<mark>日本</mark>的侵略罪行。所以，<mark>日本</mark>政府不遗余力地实施政治干预，力图破坏这一进程，此次更是要以拒缴会费的方式，赤裸裸地逼迫该组织在下次申遗材料审查时做出对<mark>日本</mark>有利的决定。\n",
      "与此同时，<mark>日本</mark>政府还屡次要求教科文组织修改规则，增加“透明度”，并希望向审查世界记忆遗产申报项目的委员会派遣<mark>日本</mark>专家。不难看出，<mark>日本</mark>的这种做法，就是试图将世界记忆名录申报规则改革政治化，并借改革之名谋求一己私利，进而达到否认甚至美化侵略历史的目的。\n",
      "联合国教科文组织的世界记忆遗产项目，其意义不仅在于保留和传承真实鲜活的个体记忆，更在于保护人类共同记忆永不褪色。将南京大屠杀和强征“慰安妇”的惨痛历史上升为人类共同的记忆遗产，为的就是将血的教训烙入记忆，为世界保留下战争与屠杀的罪恶记忆，让战争的历史悲剧不再重演。历史不是任人打扮的小姑娘，<mark>日本</mark>当局屡屡在大是大非的历史问题上混淆视听，施放错误言行，注定会遭到抵制和谴责，注定要失败。正如中国外交部发言人华春莹所说，以拒绝向联合国教科文组织缴纳会费来施压的做法是不负责任的，其目的也不会得逞。\n"
     ]
    }
   ],
   "source": [
    "try:\n",
    "    # files = []\n",
    "\n",
    "    # domain_id = Domain(url=base_url)\n",
    "    keywords = Keyword.query.all()\n",
    "    # print(keywords)\n",
    "    for (dirpath, dirnames, filenames) in os.walk(\"./data\"):#../patents data\n",
    "        for file in filenames:\n",
    "    #         files.append(file)\n",
    "    #         print(file)\n",
    "            with open(\"./data/\"+file , \"rb\") as f:\n",
    "                html = f.read()\n",
    "            soup = BeautifulSoup(html,\"lxml\")\n",
    "            all_ps = soup.findAll(\"p\")\n",
    "            if all_ps:\n",
    "                for p in all_ps:\n",
    "                    text = p.getText(strip=True)\n",
    "\n",
    "                    html = text\n",
    "                    # regix replace words with tag\n",
    "                    # for each word found save keywords_pargraphs\n",
    "    #                     for word in keywords:\n",
    "    #                         if\n",
    "                    flag = False\n",
    "                    for w in keywords:\n",
    "                        if re.search(w.ch_word, html):\n",
    "                            flag = True\n",
    "                            html = re.sub(w.ch_word,'<mark>'+w.ch_word+\"</mark>\", html)\n",
    "    #                 print(text)\n",
    "                            print(html)\n",
    "                    obj = Pargraph(text=text,html=html,domain_id=1)\n",
    "                    db.session.add(obj)\n",
    "                    db.session.flush()\n",
    "                    db.session.refresh(obj)\n",
    "                    p_id = obj.id\n",
    "                    db.session.commit()\n",
    "                    if flag:\n",
    "                        obj = Keyword_Pargraph(pargraph_id=p_id,keyword_id=1)\n",
    "                        db.session.add(obj)\n",
    "                        db.session.commit()\n",
    "    #                 print('-'*30)\n",
    "                    # save pargraph\n",
    "\n",
    "        break\n",
    "except:\n",
    "    db.session.rollback()\n",
    "    raise\n",
    "finally:\n",
    "    db.session.close() "
   ]
  },
  {
   "cell_type": "code",
   "execution_count": null,
   "metadata": {},
   "outputs": [],
   "source": [
    "r = re.search('bar', \"hi  im bar\")\n",
    "if r :\n",
    "    print(r)"
   ]
  },
  {
   "cell_type": "code",
   "execution_count": null,
   "metadata": {},
   "outputs": [],
   "source": [
    "contact_info = UserContactInfo()\n",
    "\n",
    "db.session.add(contact_info)\n",
    "db.session.commit()"
   ]
  },
  {
   "cell_type": "code",
   "execution_count": null,
   "metadata": {},
   "outputs": [],
   "source": [
    "def reindex_data(keyword , keyword_id):\n",
    "    all_ps = Pargraph.query.all()\n",
    "    if all_ps:\n",
    "        for p in all_ps:\n",
    "            html = p.html\n",
    "            flag = False\n",
    "            if re.search(keyword, html):\n",
    "                flag = True\n",
    "                html = re.sub(keyword,'<mark>'+keyword+\"</mark>\", html)\n",
    "                \n",
    "            \n",
    "            if flag:\n",
    "                p.html = html\n",
    "                db.session.commit()\n",
    "                \n",
    "                try:\n",
    "                    Keyword_Pargraph.query.filter_by(pargraph_id=p.id,keyword_id=keyword_id).one()\n",
    "                except Exception as e:\n",
    "                    obj = Keyword_Pargraph(pargraph_id=p.id,keyword_id=keyword_id)\n",
    "                    db.session.add(obj)\n",
    "                    db.session.commit()"
   ]
  },
  {
   "cell_type": "code",
   "execution_count": 16,
   "metadata": {},
   "outputs": [
    {
     "data": {
      "text/plain": [
       "<bound method Query.exists of <flask_sqlalchemy.BaseQuery object at 0x10ff8d9b0>>"
      ]
     },
     "execution_count": 16,
     "metadata": {},
     "output_type": "execute_result"
    }
   ],
   "source": [
    "exist = Keyword_Pargraph.query.filter_by(pargraph_id=1,keyword_id=2)\n"
   ]
  },
  {
   "cell_type": "code",
   "execution_count": 24,
   "metadata": {},
   "outputs": [
    {
     "name": "stdout",
     "output_type": "stream",
     "text": [
      "No row was found for one()\n"
     ]
    }
   ],
   "source": [
    "try:\n",
    "    exist.one()\n",
    "except Exception as e:\n",
    "    print(e)"
   ]
  },
  {
   "cell_type": "code",
   "execution_count": 26,
   "metadata": {},
   "outputs": [],
   "source": [
    "dd = Domain.query.all()\n",
    "for d in dd:\n",
    "    d.url=d.url[:-1]\n",
    "    db.session.commit()\n",
    "    "
   ]
  },
  {
   "cell_type": "code",
   "execution_count": null,
   "metadata": {},
   "outputs": [],
   "source": []
  }
 ],
 "metadata": {
  "kernelspec": {
   "display_name": "Python 3",
   "language": "python",
   "name": "python3"
  },
  "language_info": {
   "codemirror_mode": {
    "name": "ipython",
    "version": 3
   },
   "file_extension": ".py",
   "mimetype": "text/x-python",
   "name": "python",
   "nbconvert_exporter": "python",
   "pygments_lexer": "ipython3",
   "version": "3.6.5"
  }
 },
 "nbformat": 4,
 "nbformat_minor": 2
}
