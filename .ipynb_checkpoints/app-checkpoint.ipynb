{
 "cells": [
  {
   "cell_type": "code",
   "execution_count": null,
   "metadata": {},
   "outputs": [],
   "source": [
    "# coding: utf-8\n",
    "\n",
    "# In[ ]:\n",
    "\n",
    "\n",
    "from flask import Flask, render_template\n",
    "import os\n",
    "from flask import request\n",
    "from flask import make_response\n",
    "import json\n",
    "import json\n",
    "import time\n",
    "\n",
    "\n",
    "app = Flask(__name__)\n",
    "\n",
    "\n",
    "@app.route('/generator', methods=['GET', 'POST'])\n",
    "def generator():\n",
    "    if request.method == 'POST':\n",
    "        resp = make_response(deal_with_request(request));\n",
    "        resp.headers[\"Content-Type\"]='application/json; charset=utf-8';\n",
    "        return resp;\n",
    "    return \"\"\n",
    "              \n",
    "    \n",
    "    \n",
    "\n",
    "@app.route('/', methods=['GET'])\n",
    "def index():\n",
    "    result = []\n",
    "    print(result)\n",
    "    return render_template('index.html',domains=result)\n",
    "\n",
    "    \n",
    "\n",
    "\n",
    "\n",
    "\n",
    "\n",
    "\n",
    "if __name__ == '__main__':\n",
    "    # app.run(host='0.0.0.0')\n",
    "    app.run(host='0.0.0.0', port=int(os.environ.get('PORT', 5000)), debug=True)"
   ]
  }
 ],
 "metadata": {
  "kernelspec": {
   "display_name": "Python 3",
   "language": "python",
   "name": "python3"
  },
  "language_info": {
   "codemirror_mode": {
    "name": "ipython",
    "version": 3
   },
   "file_extension": ".py",
   "mimetype": "text/x-python",
   "name": "python",
   "nbconvert_exporter": "python",
   "pygments_lexer": "ipython3",
   "version": "3.6.5"
  }
 },
 "nbformat": 4,
 "nbformat_minor": 2
}
