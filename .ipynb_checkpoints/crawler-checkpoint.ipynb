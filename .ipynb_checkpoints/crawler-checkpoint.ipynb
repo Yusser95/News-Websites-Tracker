{
 "cells": [
  {
   "cell_type": "code",
   "execution_count": 1,
   "metadata": {},
   "outputs": [],
   "source": [
    "# from bs4 import BeautifulSoup\n",
    "\n",
    "\n",
    "\n"
   ]
  },
  {
   "cell_type": "code",
   "execution_count": null,
   "metadata": {},
   "outputs": [],
   "source": []
  },
  {
   "cell_type": "code",
   "execution_count": 2,
   "metadata": {},
   "outputs": [],
   "source": [
    "# def crawl_and_save_pages(base_url , path ,depth ,flag=0):\n",
    "    \n",
    "#     if flag > depth:\n",
    "#         return True\n",
    "    \n",
    "#     print(flag)\n",
    "    \n",
    "#     response = requests.get(base_url)\n",
    "#     html = response.content\n",
    "#     file_name = response.url\n",
    "    \n",
    "#     if path[-1] != \"/\":\n",
    "#         path+=\"/\"\n",
    "    \n",
    "#     if response.url[-5] != \".html\":\n",
    "#         file_name += \".html\"\n",
    "        \n",
    "#     with open(path+file_name.replace(\"/\",\"\") , 'wb') as f:\n",
    "#         f.write(html)\n",
    "    \n",
    "#     soup = BeautifulSoup(html,'lxml')\n",
    "#     all_as = soup.findAll(\"a\")\n",
    "#     if all_as:\n",
    "#         for a in all_as:\n",
    "#             try:\n",
    "#                 href = a['href']\n",
    "#                 if href.find(\"http\"):\n",
    "# #                     print(response.url+href)\n",
    "#                     crawl_and_save_pages(response.url+href , path ,depth ,flag+1)      \n",
    "#             except Exception as e:\n",
    "#                 pass\n"
   ]
  },
  {
   "cell_type": "code",
   "execution_count": 3,
   "metadata": {},
   "outputs": [],
   "source": [
    "# crawl_and_save_pages(base_url , \"./data\" ,4)"
   ]
  },
  {
   "cell_type": "code",
   "execution_count": 4,
   "metadata": {},
   "outputs": [
    {
     "name": "stderr",
     "output_type": "stream",
     "text": [
      "/usr/local/lib/python3.6/site-packages/psycopg2/__init__.py:144: UserWarning: The psycopg2 wheel package will be renamed from release 2.8; in order to keep installing from binary please use \"pip install psycopg2-binary\" instead. For details see: <http://initd.org/psycopg/docs/install.html#binary-install-from-pypi>.\n",
      "  \"\"\")\n"
     ]
    }
   ],
   "source": [
    "import time\n",
    "import requests\n",
    "from bs4 import BeautifulSoup\n",
    "import re\n",
    "from sys import exit\n",
    "from selenium import webdriver\n",
    "import zipfile\n",
    "import platform\n",
    "import pandas as pd\n",
    "\n",
    "from zipfile import ZipFile\n",
    "from stat import S_IXUSR\n",
    "import os\n",
    "import unicodedata\n",
    "import timestring\n",
    "\n",
    "\n",
    "class Crawler():\n",
    "    \n",
    "    def __init__ (self):\n",
    "#         self.browser = webdriver.PhantomJS(executable_path=self.get_phantomjs_executable_path())\n",
    "        pass\n",
    "        \n",
    "    def extract_all_with_executable_permission(self,zf, target_dir):\n",
    "        ZIP_UNIX_SYSTEM = 3\n",
    "\n",
    "        for info in zf.infolist():\n",
    "            extracted_path = zf.extract(info, target_dir)\n",
    "\n",
    "            if info.create_system == ZIP_UNIX_SYSTEM and os.path.isfile(extracted_path):\n",
    "                unix_attributes = info.external_attr >> 16\n",
    "                if unix_attributes & S_IXUSR:\n",
    "                    os.chmod(extracted_path, os.stat(extracted_path).st_mode | S_IXUSR)\n",
    "\n",
    "\n",
    "    def get_phantomjs_executable_path(self):\n",
    "        Base_path = \"./static/phantomjs/\"\n",
    "        zip_name = \"phantomjs-2.1.1-\"\n",
    "        if platform.system() == 'Linux':\n",
    "            zip_name += \"linux\"\n",
    "            if platform.architecture()[0] == '64bit':\n",
    "                zip_name += \"-x64\"\n",
    "                with zipfile.ZipFile(Base_path+zip_name+\".zip\", 'r') as zip_ref:\n",
    "                    self.extract_all_with_executable_permission(zip_ref, Base_path)\n",
    "                return Base_path+zip_name+\"/bin/phantomjs\"\n",
    "            else:\n",
    "                zip_name += \"-x86\"\n",
    "                with zipfile.ZipFile(Base_path+zip_name+\".zip\", 'r') as zip_ref:\n",
    "                    self.extract_all_with_executable_permission(zip_ref, Base_path)\n",
    "                return Base_path+zip_name+\"/bin/phantomjs\"\n",
    "\n",
    "        elif platform.system() == 'Darwin': # macos\n",
    "            zip_name += \"macosx\"\n",
    "            with zipfile.ZipFile(Base_path+zip_name+\".zip\", 'r') as zip_ref:\n",
    "                    self.extract_all_with_executable_permission(zip_ref, Base_path)\n",
    "            return Base_path+zip_name+\"/bin/phantomjs\"\n",
    "\n",
    "        elif platform.system() == 'Windows':\n",
    "            zip_name += \"windows\"\n",
    "            with zipfile.ZipFile(Base_path+zip_name+\".zip\", 'r') as zip_ref:\n",
    "                    self.extract_all_with_executable_permission(zip_ref, Base_path)\n",
    "            return Base_path+zip_name+\"/bin/phantomjs.exe\"\n",
    "\n",
    "        else:\n",
    "            print(\"os not supported\")\n",
    "            exit()\n",
    "\n",
    "    def strip_punctuation(self,text):\n",
    "        if text is None:\n",
    "            return None\n",
    "        punctutation_cats = set(['Pc', 'Pd', 'Ps', 'Pe', 'Pi', 'Pf', 'Po'])\n",
    "        return  ''.join(x for x in text if unicodedata.category(x)\n",
    "                       not in punctutation_cats)\n",
    "\n",
    "    def scrape_data(self ,url  , path ,depth ,base_url = None,flag=0):\n",
    "        \n",
    "        if not base_url:\n",
    "            base_url = url.split(\"://\")[1].split(\"/\")[0]\n",
    "\n",
    "        if flag > depth:\n",
    "            return True\n",
    "\n",
    "        print(flag)\n",
    "\n",
    "#         self.browser.get(url)\n",
    "#         html = self.browser.page_source\n",
    "\n",
    "        headers = {'User-Agent': 'Mozilla/5.0 (Macintosh; Intel Mac OS X 10_10_1) AppleWebKit/537.36 (KHTML, like Gecko) Chrome/39.0.2171.95 Safari/537.36'}\n",
    "        response = requests.get(url,headers=headers)\n",
    "        html = response.content\n",
    "\n",
    "        if response.status_code == 200:\n",
    "            file_name = url.replace(\"/\",\"\")\n",
    "\n",
    "            if path[-1] != \"/\":\n",
    "                path+=\"/\"\n",
    "\n",
    "            if url[-5] != \".html\":\n",
    "                file_name += \".html\"\n",
    "            print(path+file_name)\n",
    "            with open(path+file_name , 'wb') as f:\n",
    "                f.write(html)\n",
    "\n",
    "            soup = BeautifulSoup(html,'lxml')\n",
    "            all_as = soup.findAll(\"a\")\n",
    "            if all_as:\n",
    "                for a in all_as:\n",
    "                    try:\n",
    "                        href = a['href']\n",
    "                        if href.find(\"://\") == -1:\n",
    "                            print(url+href)\n",
    "                            time.sleep(2)\n",
    "                            self.scrape_data(url+href , path ,depth ,base_url ,flag+1)\n",
    "                        elif href.split(\"://\")[1].split(\"/\")[0] == base_url:\n",
    "                            print(href)\n",
    "                            time.sleep(2)\n",
    "                            self.scrape_data(href , path ,depth ,base_url ,flag+1)\n",
    "                    except Exception as e:\n",
    "                        print(e)\n",
    "                        pass\n",
    "            else:\n",
    "                print(\"no links\")\n",
    "#                 print(all_as)\n",
    "        else:\n",
    "            print(\"status_code : \" , response.status_code)"
   ]
  },
  {
   "cell_type": "code",
   "execution_count": 5,
   "metadata": {},
   "outputs": [],
   "source": [
    "# browser = webdriver.PhantomJS(executable_path=\"./static/phantomjs/phantomjs-2.1.1-macosx/bin/phantomjs\")"
   ]
  },
  {
   "cell_type": "code",
   "execution_count": 6,
   "metadata": {},
   "outputs": [],
   "source": [
    "# t = browser.get(base_url)\n",
    "# html = browser.page_source\n",
    "# html"
   ]
  },
  {
   "cell_type": "code",
   "execution_count": 7,
   "metadata": {},
   "outputs": [],
   "source": [
    "# t"
   ]
  },
  {
   "cell_type": "code",
   "execution_count": 8,
   "metadata": {},
   "outputs": [
    {
     "name": "stdout",
     "output_type": "stream",
     "text": [
      "0\n",
      "http://xb.81.cn\n",
      "1\n",
      "http://xb.81.cn\n",
      "2\n",
      "http://xb.81.cn\n",
      "3\n",
      "http://xb.81.cn\n",
      "4\n",
      "http://xb.81.cn\n",
      "http://xb.81.cn#lxwm\n",
      "http://xb.81.cn../../../node_56687.htm\n",
      "http://xb.81.cn../../../node_59777.htm\n",
      "http://xb.81.cn../../../node_59776.htm\n",
      "http://xb.81.cn../../../node_56020.htm\n",
      "http://xb.81.cn../../../v.htm\n",
      "http://xb.81.cn../../../pic.htm\n",
      "http://xb.81.cn../../../node_56686.htm\n",
      "http://xb.81.cn../../../node_56009.htm\n",
      "http://xb.81.cn#wnfw\n",
      "http://xb.81.cn../../../node_59769.htm\n",
      "http://xb.81.cn../../../node_56043.htm\n",
      "http://xb.81.cn../../../node_56658.htm\n",
      "http://xb.81.cn#jlqy\n",
      "http://xb.81.cn../../../node_59766.htm\n",
      "http://xb.81.cn../../../node_56044.htm\n",
      "http://xb.81.cn../../../node_59767.htm\n",
      "http://xb.81.cn#tlxn\n"
     ]
    },
    {
     "ename": "KeyboardInterrupt",
     "evalue": "",
     "output_type": "error",
     "traceback": [
      "\u001b[0;31m---------------------------------------------------------------------------\u001b[0m",
      "\u001b[0;31mKeyboardInterrupt\u001b[0m                         Traceback (most recent call last)",
      "\u001b[0;32m<ipython-input-8-e17da10fa2f8>\u001b[0m in \u001b[0;36m<module>\u001b[0;34m()\u001b[0m\n\u001b[1;32m      2\u001b[0m \u001b[0;34m\u001b[0m\u001b[0m\n\u001b[1;32m      3\u001b[0m \u001b[0mc\u001b[0m \u001b[0;34m=\u001b[0m \u001b[0mCrawler\u001b[0m\u001b[0;34m(\u001b[0m\u001b[0;34m)\u001b[0m\u001b[0;34m\u001b[0m\u001b[0m\n\u001b[0;32m----> 4\u001b[0;31m \u001b[0mc\u001b[0m\u001b[0;34m.\u001b[0m\u001b[0mscrape_data\u001b[0m\u001b[0;34m(\u001b[0m\u001b[0mbase_url\u001b[0m\u001b[0;34m,\u001b[0m\u001b[0;34m\"./data\"\u001b[0m\u001b[0;34m,\u001b[0m\u001b[0;36m4\u001b[0m\u001b[0;34m)\u001b[0m\u001b[0;34m\u001b[0m\u001b[0m\n\u001b[0m",
      "\u001b[0;32m<ipython-input-4-3fd58b399571>\u001b[0m in \u001b[0;36mscrape_data\u001b[0;34m(self, url, path, depth, base_url, flag)\u001b[0m\n\u001b[1;32m    111\u001b[0m                             \u001b[0mprint\u001b[0m\u001b[0;34m(\u001b[0m\u001b[0murl\u001b[0m\u001b[0;34m+\u001b[0m\u001b[0mhref\u001b[0m\u001b[0;34m)\u001b[0m\u001b[0;34m\u001b[0m\u001b[0m\n\u001b[1;32m    112\u001b[0m                             \u001b[0mtime\u001b[0m\u001b[0;34m.\u001b[0m\u001b[0msleep\u001b[0m\u001b[0;34m(\u001b[0m\u001b[0;36m2\u001b[0m\u001b[0;34m)\u001b[0m\u001b[0;34m\u001b[0m\u001b[0m\n\u001b[0;32m--> 113\u001b[0;31m                             \u001b[0mself\u001b[0m\u001b[0;34m.\u001b[0m\u001b[0mscrape_data\u001b[0m\u001b[0;34m(\u001b[0m\u001b[0murl\u001b[0m\u001b[0;34m+\u001b[0m\u001b[0mhref\u001b[0m \u001b[0;34m,\u001b[0m \u001b[0mpath\u001b[0m \u001b[0;34m,\u001b[0m\u001b[0mdepth\u001b[0m \u001b[0;34m,\u001b[0m\u001b[0mbase_url\u001b[0m \u001b[0;34m,\u001b[0m\u001b[0mflag\u001b[0m\u001b[0;34m+\u001b[0m\u001b[0;36m1\u001b[0m\u001b[0;34m)\u001b[0m\u001b[0;34m\u001b[0m\u001b[0m\n\u001b[0m\u001b[1;32m    114\u001b[0m                         \u001b[0;32melif\u001b[0m \u001b[0mhref\u001b[0m\u001b[0;34m.\u001b[0m\u001b[0msplit\u001b[0m\u001b[0;34m(\u001b[0m\u001b[0;34m\"://\"\u001b[0m\u001b[0;34m)\u001b[0m\u001b[0;34m[\u001b[0m\u001b[0;36m1\u001b[0m\u001b[0;34m]\u001b[0m\u001b[0;34m.\u001b[0m\u001b[0msplit\u001b[0m\u001b[0;34m(\u001b[0m\u001b[0;34m\"/\"\u001b[0m\u001b[0;34m)\u001b[0m\u001b[0;34m[\u001b[0m\u001b[0;36m0\u001b[0m\u001b[0;34m]\u001b[0m \u001b[0;34m==\u001b[0m \u001b[0mbase_url\u001b[0m\u001b[0;34m:\u001b[0m\u001b[0;34m\u001b[0m\u001b[0m\n\u001b[1;32m    115\u001b[0m                             \u001b[0mprint\u001b[0m\u001b[0;34m(\u001b[0m\u001b[0mhref\u001b[0m\u001b[0;34m)\u001b[0m\u001b[0;34m\u001b[0m\u001b[0m\n",
      "\u001b[0;32m<ipython-input-4-3fd58b399571>\u001b[0m in \u001b[0;36mscrape_data\u001b[0;34m(self, url, path, depth, base_url, flag)\u001b[0m\n\u001b[1;32m    111\u001b[0m                             \u001b[0mprint\u001b[0m\u001b[0;34m(\u001b[0m\u001b[0murl\u001b[0m\u001b[0;34m+\u001b[0m\u001b[0mhref\u001b[0m\u001b[0;34m)\u001b[0m\u001b[0;34m\u001b[0m\u001b[0m\n\u001b[1;32m    112\u001b[0m                             \u001b[0mtime\u001b[0m\u001b[0;34m.\u001b[0m\u001b[0msleep\u001b[0m\u001b[0;34m(\u001b[0m\u001b[0;36m2\u001b[0m\u001b[0;34m)\u001b[0m\u001b[0;34m\u001b[0m\u001b[0m\n\u001b[0;32m--> 113\u001b[0;31m                             \u001b[0mself\u001b[0m\u001b[0;34m.\u001b[0m\u001b[0mscrape_data\u001b[0m\u001b[0;34m(\u001b[0m\u001b[0murl\u001b[0m\u001b[0;34m+\u001b[0m\u001b[0mhref\u001b[0m \u001b[0;34m,\u001b[0m \u001b[0mpath\u001b[0m \u001b[0;34m,\u001b[0m\u001b[0mdepth\u001b[0m \u001b[0;34m,\u001b[0m\u001b[0mbase_url\u001b[0m \u001b[0;34m,\u001b[0m\u001b[0mflag\u001b[0m\u001b[0;34m+\u001b[0m\u001b[0;36m1\u001b[0m\u001b[0;34m)\u001b[0m\u001b[0;34m\u001b[0m\u001b[0m\n\u001b[0m\u001b[1;32m    114\u001b[0m                         \u001b[0;32melif\u001b[0m \u001b[0mhref\u001b[0m\u001b[0;34m.\u001b[0m\u001b[0msplit\u001b[0m\u001b[0;34m(\u001b[0m\u001b[0;34m\"://\"\u001b[0m\u001b[0;34m)\u001b[0m\u001b[0;34m[\u001b[0m\u001b[0;36m1\u001b[0m\u001b[0;34m]\u001b[0m\u001b[0;34m.\u001b[0m\u001b[0msplit\u001b[0m\u001b[0;34m(\u001b[0m\u001b[0;34m\"/\"\u001b[0m\u001b[0;34m)\u001b[0m\u001b[0;34m[\u001b[0m\u001b[0;36m0\u001b[0m\u001b[0;34m]\u001b[0m \u001b[0;34m==\u001b[0m \u001b[0mbase_url\u001b[0m\u001b[0;34m:\u001b[0m\u001b[0;34m\u001b[0m\u001b[0m\n\u001b[1;32m    115\u001b[0m                             \u001b[0mprint\u001b[0m\u001b[0;34m(\u001b[0m\u001b[0mhref\u001b[0m\u001b[0;34m)\u001b[0m\u001b[0;34m\u001b[0m\u001b[0m\n",
      "\u001b[0;32m<ipython-input-4-3fd58b399571>\u001b[0m in \u001b[0;36mscrape_data\u001b[0;34m(self, url, path, depth, base_url, flag)\u001b[0m\n\u001b[1;32m    111\u001b[0m                             \u001b[0mprint\u001b[0m\u001b[0;34m(\u001b[0m\u001b[0murl\u001b[0m\u001b[0;34m+\u001b[0m\u001b[0mhref\u001b[0m\u001b[0;34m)\u001b[0m\u001b[0;34m\u001b[0m\u001b[0m\n\u001b[1;32m    112\u001b[0m                             \u001b[0mtime\u001b[0m\u001b[0;34m.\u001b[0m\u001b[0msleep\u001b[0m\u001b[0;34m(\u001b[0m\u001b[0;36m2\u001b[0m\u001b[0;34m)\u001b[0m\u001b[0;34m\u001b[0m\u001b[0m\n\u001b[0;32m--> 113\u001b[0;31m                             \u001b[0mself\u001b[0m\u001b[0;34m.\u001b[0m\u001b[0mscrape_data\u001b[0m\u001b[0;34m(\u001b[0m\u001b[0murl\u001b[0m\u001b[0;34m+\u001b[0m\u001b[0mhref\u001b[0m \u001b[0;34m,\u001b[0m \u001b[0mpath\u001b[0m \u001b[0;34m,\u001b[0m\u001b[0mdepth\u001b[0m \u001b[0;34m,\u001b[0m\u001b[0mbase_url\u001b[0m \u001b[0;34m,\u001b[0m\u001b[0mflag\u001b[0m\u001b[0;34m+\u001b[0m\u001b[0;36m1\u001b[0m\u001b[0;34m)\u001b[0m\u001b[0;34m\u001b[0m\u001b[0m\n\u001b[0m\u001b[1;32m    114\u001b[0m                         \u001b[0;32melif\u001b[0m \u001b[0mhref\u001b[0m\u001b[0;34m.\u001b[0m\u001b[0msplit\u001b[0m\u001b[0;34m(\u001b[0m\u001b[0;34m\"://\"\u001b[0m\u001b[0;34m)\u001b[0m\u001b[0;34m[\u001b[0m\u001b[0;36m1\u001b[0m\u001b[0;34m]\u001b[0m\u001b[0;34m.\u001b[0m\u001b[0msplit\u001b[0m\u001b[0;34m(\u001b[0m\u001b[0;34m\"/\"\u001b[0m\u001b[0;34m)\u001b[0m\u001b[0;34m[\u001b[0m\u001b[0;36m0\u001b[0m\u001b[0;34m]\u001b[0m \u001b[0;34m==\u001b[0m \u001b[0mbase_url\u001b[0m\u001b[0;34m:\u001b[0m\u001b[0;34m\u001b[0m\u001b[0m\n\u001b[1;32m    115\u001b[0m                             \u001b[0mprint\u001b[0m\u001b[0;34m(\u001b[0m\u001b[0mhref\u001b[0m\u001b[0;34m)\u001b[0m\u001b[0;34m\u001b[0m\u001b[0m\n",
      "\u001b[0;32m<ipython-input-4-3fd58b399571>\u001b[0m in \u001b[0;36mscrape_data\u001b[0;34m(self, url, path, depth, base_url, flag)\u001b[0m\n\u001b[1;32m    111\u001b[0m                             \u001b[0mprint\u001b[0m\u001b[0;34m(\u001b[0m\u001b[0murl\u001b[0m\u001b[0;34m+\u001b[0m\u001b[0mhref\u001b[0m\u001b[0;34m)\u001b[0m\u001b[0;34m\u001b[0m\u001b[0m\n\u001b[1;32m    112\u001b[0m                             \u001b[0mtime\u001b[0m\u001b[0;34m.\u001b[0m\u001b[0msleep\u001b[0m\u001b[0;34m(\u001b[0m\u001b[0;36m2\u001b[0m\u001b[0;34m)\u001b[0m\u001b[0;34m\u001b[0m\u001b[0m\n\u001b[0;32m--> 113\u001b[0;31m                             \u001b[0mself\u001b[0m\u001b[0;34m.\u001b[0m\u001b[0mscrape_data\u001b[0m\u001b[0;34m(\u001b[0m\u001b[0murl\u001b[0m\u001b[0;34m+\u001b[0m\u001b[0mhref\u001b[0m \u001b[0;34m,\u001b[0m \u001b[0mpath\u001b[0m \u001b[0;34m,\u001b[0m\u001b[0mdepth\u001b[0m \u001b[0;34m,\u001b[0m\u001b[0mbase_url\u001b[0m \u001b[0;34m,\u001b[0m\u001b[0mflag\u001b[0m\u001b[0;34m+\u001b[0m\u001b[0;36m1\u001b[0m\u001b[0;34m)\u001b[0m\u001b[0;34m\u001b[0m\u001b[0m\n\u001b[0m\u001b[1;32m    114\u001b[0m                         \u001b[0;32melif\u001b[0m \u001b[0mhref\u001b[0m\u001b[0;34m.\u001b[0m\u001b[0msplit\u001b[0m\u001b[0;34m(\u001b[0m\u001b[0;34m\"://\"\u001b[0m\u001b[0;34m)\u001b[0m\u001b[0;34m[\u001b[0m\u001b[0;36m1\u001b[0m\u001b[0;34m]\u001b[0m\u001b[0;34m.\u001b[0m\u001b[0msplit\u001b[0m\u001b[0;34m(\u001b[0m\u001b[0;34m\"/\"\u001b[0m\u001b[0;34m)\u001b[0m\u001b[0;34m[\u001b[0m\u001b[0;36m0\u001b[0m\u001b[0;34m]\u001b[0m \u001b[0;34m==\u001b[0m \u001b[0mbase_url\u001b[0m\u001b[0;34m:\u001b[0m\u001b[0;34m\u001b[0m\u001b[0m\n\u001b[1;32m    115\u001b[0m                             \u001b[0mprint\u001b[0m\u001b[0;34m(\u001b[0m\u001b[0mhref\u001b[0m\u001b[0;34m)\u001b[0m\u001b[0;34m\u001b[0m\u001b[0m\n",
      "\u001b[0;32m<ipython-input-4-3fd58b399571>\u001b[0m in \u001b[0;36mscrape_data\u001b[0;34m(self, url, path, depth, base_url, flag)\u001b[0m\n\u001b[1;32m    110\u001b[0m                         \u001b[0;32mif\u001b[0m \u001b[0mhref\u001b[0m\u001b[0;34m.\u001b[0m\u001b[0mfind\u001b[0m\u001b[0;34m(\u001b[0m\u001b[0;34m\"://\"\u001b[0m\u001b[0;34m)\u001b[0m \u001b[0;34m==\u001b[0m \u001b[0;34m-\u001b[0m\u001b[0;36m1\u001b[0m\u001b[0;34m:\u001b[0m\u001b[0;34m\u001b[0m\u001b[0m\n\u001b[1;32m    111\u001b[0m                             \u001b[0mprint\u001b[0m\u001b[0;34m(\u001b[0m\u001b[0murl\u001b[0m\u001b[0;34m+\u001b[0m\u001b[0mhref\u001b[0m\u001b[0;34m)\u001b[0m\u001b[0;34m\u001b[0m\u001b[0m\n\u001b[0;32m--> 112\u001b[0;31m                             \u001b[0mtime\u001b[0m\u001b[0;34m.\u001b[0m\u001b[0msleep\u001b[0m\u001b[0;34m(\u001b[0m\u001b[0;36m2\u001b[0m\u001b[0;34m)\u001b[0m\u001b[0;34m\u001b[0m\u001b[0m\n\u001b[0m\u001b[1;32m    113\u001b[0m                             \u001b[0mself\u001b[0m\u001b[0;34m.\u001b[0m\u001b[0mscrape_data\u001b[0m\u001b[0;34m(\u001b[0m\u001b[0murl\u001b[0m\u001b[0;34m+\u001b[0m\u001b[0mhref\u001b[0m \u001b[0;34m,\u001b[0m \u001b[0mpath\u001b[0m \u001b[0;34m,\u001b[0m\u001b[0mdepth\u001b[0m \u001b[0;34m,\u001b[0m\u001b[0mbase_url\u001b[0m \u001b[0;34m,\u001b[0m\u001b[0mflag\u001b[0m\u001b[0;34m+\u001b[0m\u001b[0;36m1\u001b[0m\u001b[0;34m)\u001b[0m\u001b[0;34m\u001b[0m\u001b[0m\n\u001b[1;32m    114\u001b[0m                         \u001b[0;32melif\u001b[0m \u001b[0mhref\u001b[0m\u001b[0;34m.\u001b[0m\u001b[0msplit\u001b[0m\u001b[0;34m(\u001b[0m\u001b[0;34m\"://\"\u001b[0m\u001b[0;34m)\u001b[0m\u001b[0;34m[\u001b[0m\u001b[0;36m1\u001b[0m\u001b[0;34m]\u001b[0m\u001b[0;34m.\u001b[0m\u001b[0msplit\u001b[0m\u001b[0;34m(\u001b[0m\u001b[0;34m\"/\"\u001b[0m\u001b[0;34m)\u001b[0m\u001b[0;34m[\u001b[0m\u001b[0;36m0\u001b[0m\u001b[0;34m]\u001b[0m \u001b[0;34m==\u001b[0m \u001b[0mbase_url\u001b[0m\u001b[0;34m:\u001b[0m\u001b[0;34m\u001b[0m\u001b[0m\n",
      "\u001b[0;31mKeyboardInterrupt\u001b[0m: "
     ]
    }
   ],
   "source": [
    "base_url = \"http://xb.81.cn\"\n",
    "\n",
    "c = Crawler()\n",
    "c.scrape_data(base_url,\"./data\",4)"
   ]
  },
  {
   "cell_type": "code",
   "execution_count": null,
   "metadata": {},
   "outputs": [],
   "source": []
  },
  {
   "cell_type": "code",
   "execution_count": null,
   "metadata": {},
   "outputs": [],
   "source": []
  },
  {
   "cell_type": "code",
   "execution_count": null,
   "metadata": {},
   "outputs": [],
   "source": []
  }
 ],
 "metadata": {
  "kernelspec": {
   "display_name": "Python 3",
   "language": "python",
   "name": "python3"
  },
  "language_info": {
   "codemirror_mode": {
    "name": "ipython",
    "version": 3
   },
   "file_extension": ".py",
   "mimetype": "text/x-python",
   "name": "python",
   "nbconvert_exporter": "python",
   "pygments_lexer": "ipython3",
   "version": "3.6.5"
  }
 },
 "nbformat": 4,
 "nbformat_minor": 2
}
